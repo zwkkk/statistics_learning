{
 "cells": [
  {
   "cell_type": "code",
   "execution_count": 233,
   "metadata": {},
   "outputs": [
    {
     "data": {
      "text/plain": [
       "10517"
      ]
     },
     "execution_count": 233,
     "metadata": {},
     "output_type": "execute_result"
    }
   ],
   "source": [
    "import numpy as np\n",
    "import matplotlib.pyplot as plt\n",
    "%matplotlib inline\n",
    "import gc\n",
    "gc.collect()"
   ]
  },
  {
   "cell_type": "code",
   "execution_count": 234,
   "metadata": {},
   "outputs": [],
   "source": [
    "A = np.array([[0.5, 0.2, 0.3],\n",
    "                    [0.3, 0.5, 0.2],\n",
    "                    [0.2, 0.3, 0.5]])\n",
    "\n",
    "B = np.array([[0.5, 0.5],\n",
    "                    [0.4, 0.6],\n",
    "                    [0.7, 0.3]])\n",
    "\n",
    "pi = np.array([0.2, 0.4, 0.4])\n",
    "\n",
    "V = {\"red\":0, \"white\":1}\n",
    "\n",
    "O = np.array([0, 1, 0]) #红 白 红"
   ]
  },
  {
   "cell_type": "code",
   "execution_count": 272,
   "metadata": {},
   "outputs": [],
   "source": [
    "class HMM:\n",
    "    def __init__(self, A, B, pi, n_component, V):\n",
    "        #lambda (A, B, pi)\n",
    "        self.A = A #状态转移概率矩阵 公式10.1 N*N\n",
    "        self.B = B #观测概率矩阵 公式10.3 N*M\n",
    "        self.pi = pi #初始状态概率向量 公式10.5 N\n",
    "        \n",
    "        self.T = None  #长度为T 观测序列长度(len(O))\n",
    "        self.N = n_component #可能的状态数\n",
    "        self.M = len(V) #可能的观测数\n",
    "        #I 是长度为T的状态序列，O是对应的观测序列\n",
    "        \n",
    "    def forward(self, O): #算法10.2\n",
    "        self.T = len(O)\n",
    "        alpha = np.zeros((self.T, self.N))   #前向概率矩阵初始化 公式10.14\n",
    "        \n",
    "        for i in range(self.N):  #公式10.15\n",
    "            alpha[0,i] = self.pi[i] * self.B[i, O[0]]\n",
    "        \n",
    "        for t in range(self.T-1):  #公式10.16\n",
    "            for i in range(self.N):\n",
    "                for j in range(self.N):\n",
    "                    alpha[t+1, i]  += (alpha[t, j] * self.A[j, i]) * self.B[i, O[t+1]] \n",
    "    \n",
    "        p = np.sum(alpha[self.T-1, :])  #公式10.17\n",
    "        \n",
    "        return p, alpha\n",
    "    \n",
    "    def backward(self, O): #算法10.3\n",
    "        self.T = len(O)\n",
    "        beta = np.zeros((self.T, self.N)) #后向概率矩阵初始化 公式10.18\n",
    "        \n",
    "        beta[self.T-1, :] = 1 #公式10.19\n",
    "        \n",
    "        for t in range(self.T-2, -1, -1): #公式10.20   #注意range不包含最后一个元素，递减需要写间隔\n",
    "            for i in range(self.N):\n",
    "                for j in range(self.N):\n",
    "                    beta[t, i] += (self.A[i, j] * self.B[j, O[t+1]]) * beta[t+1, j]\n",
    "              \n",
    "        p = 0\n",
    "        for i in range(self.N): #公式10.21\n",
    "            p += self.pi[i] * self.B[i, O[0]] * beta[0, i]\n",
    "            \n",
    "        return p, beta\n",
    "                    \n",
    "    def fit(self, O, maxIter): #算法10.4\n",
    "\n",
    "        #初始化 假定都为均值初始化\n",
    "        n = 0\n",
    "        \n",
    "        self.A = np.ones((self.N, self.N)) / self.N\n",
    "        self.B = np.ones((self.N, self.M)) / self.M\n",
    "        self.pi = np.ones(self.N) / self.N\n",
    "        self.T = len(O)\n",
    "        \n",
    "        for _ in range(maxIter):\n",
    "            \n",
    "            self.eta = np.zeros((self.T, self.N))\n",
    "            self.epsilon = np.zeros((self.T, self.N, self.N))\n",
    "        \n",
    "            _, alpha = self.forward(O)\n",
    "            _, beta = self.backward(O)\n",
    "            \n",
    "            self.eta = (alpha*beta)  #公式10.24\n",
    "            for t in range(self.T):\n",
    "                self.eta[t, :] /= np.sum(self.eta[t, :]) \n",
    "\n",
    "            for t in range(self.T-1):   #公式10.26\n",
    "                s = 0\n",
    "                for i in range(self.N):\n",
    "                    for j in range(self.N):\n",
    "                        self.epsilon[t, i, j]  += (alpha[t, i]*self.A[i, j]*self.B[j, O[t+1]]*beta[t+1, j]) \n",
    "                        s +=  (alpha[t, i]*self.A[i, j]*self.B[j, O[t+1]]*beta[t+1, j]) \n",
    "                for i in range(self.N):\n",
    "                    for j in range(self.N):\n",
    "                        self.epsilon[t, i, j] /= s\n",
    "\n",
    "                \n",
    "            #以下按照递推公式\n",
    "            for i in range(self.N): \n",
    "                for j in range(self.N):\n",
    "                    self.A[i, j] = np.sum(self.epsilon[:self.T-1, i, j]) / np.sum(self.eta[:self.T-1, i])\n",
    "            \n",
    "            for j in range(self.N):\n",
    "                for k in range(self.M):\n",
    "                    o = np.array(O)\n",
    "                    indices = np.where(o==k)[0]\n",
    "                    self.B[j, k] = np.sum(self.eta[indices, j]) / np.sum(self.eta[:, j])\n",
    "                    \n",
    "            for i in range(self.N):\n",
    "                self.pi[i] = self.eta[0, i]\n",
    "\n",
    "        return self.A, self.B, self.pi\n",
    "    \n",
    "    def predict(self, O):\n",
    "        #算法10.5\n",
    "        self.T = len(O)\n",
    "        \n",
    "        delta = np.zeros((self.T, self.N))\n",
    "        psa = np.zeros((self.T, self.N))\n",
    "        \n",
    "        #初始化\n",
    "        for i in range(self.N):\n",
    "            delta[0, i] = self.pi[i] * self.B[i, O[0]] \n",
    "          \n",
    "        #递推\n",
    "        for t in range(1, self.T):\n",
    "            for i in range(self.N):\n",
    "                delta[t, i] = np.max(delta[t-1, :]*self.A[:, i].flatten()*self.B[i, O[t]])\n",
    "                psa[t, i] = np.argmax(delta[t-1, :]*self.A[:, i].flatten())\n",
    "        \n",
    "        #终止\n",
    "        P = np.max(delta[self.T-1, :])\n",
    "        iT = np.argmax(delta[self.T-1, :])\n",
    "        \n",
    "        it_root = iT\n",
    "        root = [iT]\n",
    "\n",
    "        for t in range(self.T-2, -1, -1):\n",
    "            \n",
    "            it = psa[t+1, it_root]\n",
    "            it_root = int(it)\n",
    "            root.append(it_root)\n",
    "            \n",
    "        return np.array(root[::-1])\n",
    "      \n",
    "                "
   ]
  },
  {
   "cell_type": "code",
   "execution_count": 273,
   "metadata": {},
   "outputs": [
    {
     "name": "stdout",
     "output_type": "stream",
     "text": [
      "0.130218 0.130218\n"
     ]
    }
   ],
   "source": [
    "#calculate\n",
    "hmm = HMM(A=A, B=B, pi=pi, n_component=3, V=V)\n",
    "f, _ = hmm.forward(O)\n",
    "b, _ = hmm.backward(O)\n",
    "print(f, b)\n"
   ]
  },
  {
   "cell_type": "code",
   "execution_count": 274,
   "metadata": {
    "scrolled": true
   },
   "outputs": [
    {
     "name": "stdout",
     "output_type": "stream",
     "text": [
      "[[0.33333333 0.33333333 0.33333333]\n",
      " [0.33333333 0.33333333 0.33333333]\n",
      " [0.33333333 0.33333333 0.33333333]]\n",
      "[[0.66666667 0.33333333]\n",
      " [0.66666667 0.33333333]\n",
      " [0.66666667 0.33333333]]\n",
      "[0.33333333 0.33333333 0.33333333]\n"
     ]
    }
   ],
   "source": [
    "#learn\n",
    "#T=3 为观测序列0的长度，n_component为可能的状态数（盒子数量），V为观测类型，len（V）为观测数\n",
    "hmm_em = HMM(A=None, B=None, pi=None, n_component=3, V=V)\n",
    "A_hat, B_hat, pi_hat = hmm_em.fit(O, 5)\n",
    "print(A_hat)\n",
    "print(B_hat)\n",
    "print(pi_hat)"
   ]
  },
  {
   "cell_type": "code",
   "execution_count": 275,
   "metadata": {},
   "outputs": [
    {
     "name": "stdout",
     "output_type": "stream",
     "text": [
      "[2 2 2]\n"
     ]
    }
   ],
   "source": [
    "#predict\n",
    "hmm_predict = HMM(A=A, B=B, pi=pi, n_component=3, V=V)\n",
    "root = hmm_predict.predict(O)\n",
    "print(root)\n",
    "\n"
   ]
  },
  {
   "cell_type": "code",
   "execution_count": null,
   "metadata": {},
   "outputs": [],
   "source": []
  }
 ],
 "metadata": {
  "kernelspec": {
   "display_name": "Python 3",
   "language": "python",
   "name": "python3"
  },
  "language_info": {
   "codemirror_mode": {
    "name": "ipython",
    "version": 3
   },
   "file_extension": ".py",
   "mimetype": "text/x-python",
   "name": "python",
   "nbconvert_exporter": "python",
   "pygments_lexer": "ipython3",
   "version": "3.6.0"
  }
 },
 "nbformat": 4,
 "nbformat_minor": 2
}
