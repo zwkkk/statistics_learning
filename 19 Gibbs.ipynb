{
 "cells": [
  {
   "cell_type": "code",
   "execution_count": 6,
   "metadata": {},
   "outputs": [],
   "source": [
    "import numpy as np\n",
    "import seaborn as sns\n",
    "%matplotlib inline"
   ]
  },
  {
   "cell_type": "code",
   "execution_count": 4,
   "metadata": {},
   "outputs": [],
   "source": [
    "#\n",
    "mu = np.array([0, 0])\n",
    "sigma = np.array([[1, 0.9], [0.9, 1]])"
   ]
  },
  {
   "cell_type": "code",
   "execution_count": 10,
   "metadata": {},
   "outputs": [
    {
     "data": {
      "text/plain": [
       "<seaborn.axisgrid.JointGrid at 0x12f9f8198>"
      ]
     },
     "execution_count": 10,
     "metadata": {},
     "output_type": "execute_result"
    },
    {
     "data": {
      "image/png": "[encoded data removed]",
      "text/plain": [
       "<Figure size 432x432 with 3 Axes>"
      ]
     },
     "metadata": {
      "needs_background": "light"
     },
     "output_type": "display_data"
    }
   ],
   "source": [
    "#多元正态分布相关公式\n",
    "#https://blog.csdn.net/omade/article/details/28408663\n",
    "class Gibbs:\n",
    "    def __init__(self, num):\n",
    "        self.iter = num\n",
    "        self.mu = None\n",
    "        self.sigma = None\n",
    "    \n",
    "    def fit(self, mu, sigma):\n",
    "        #算法19.3\n",
    "        self.mu = mu\n",
    "        self.sigma = sigma\n",
    "        \n",
    "        samples = np.zeros((self.iter, 2)) #采样结果\n",
    "        \n",
    "        #初始化\n",
    "        x1 = np.random.random()\n",
    "        x2 = np.random.random()\n",
    "        \n",
    "        for i in range(self.iter):\n",
    "            x1 = self.x1_sample(x2)\n",
    "            x2 = self.x2_sample(x1)\n",
    "            \n",
    "            samples[i, :] = [x1, x2]\n",
    "            \n",
    "        return samples\n",
    "            \n",
    "    \n",
    "    def x1_sample(self, x):\n",
    "        #已知x2求x1\n",
    "        mu = self.mu[0] + (self.sigma[0, 1] / self.sigma[1, 1]) * (x - self.mu[1])\n",
    "        sigma  = self.sigma[0, 0] - np.square(self.sigma[0, 1]) / self.sigma[1, 1]\n",
    "        return np.random.normal(mu, sigma)\n",
    "    \n",
    "    def x2_sample(self, x):\n",
    "        #已知x1求x2\n",
    "        mu = self.mu[1] + (self.sigma[0, 1] / self.sigma[0, 0]) * (x - self.mu[1])\n",
    "        sigma  = self.sigma[1, 1] - np.square(self.sigma[0, 1]) / self.sigma[0, 0]\n",
    "        return np.random.normal(mu, sigma)\n",
    "    \n",
    "sampling = Gibbs(100)\n",
    "samples = sampling.fit(mu, sigma)\n",
    "\n",
    "sns.jointplot(samples[:, 0], samples[:, 1], kind=\"kde\")\n",
    "        "
   ]
  },
  {
   "cell_type": "code",
   "execution_count": null,
   "metadata": {},
   "outputs": [],
   "source": []
  }
 ],
 "metadata": {
  "kernelspec": {
   "display_name": "Python 3",
   "language": "python",
   "name": "python3"
  },
  "language_info": {
   "codemirror_mode": {
    "name": "ipython",
    "version": 3
   },
   "file_extension": ".py",
   "mimetype": "text/x-python",
   "name": "python",
   "nbconvert_exporter": "python",
   "pygments_lexer": "ipython3",
   "version": "3.6.0"
  }
 },
 "nbformat": 4,
 "nbformat_minor": 2
}
