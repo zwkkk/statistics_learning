{
 "cells": [
  {
   "cell_type": "code",
   "execution_count": 115,
   "metadata": {},
   "outputs": [
    {
     "data": {
      "text/plain": [
       "2819"
      ]
     },
     "execution_count": 115,
     "metadata": {},
     "output_type": "execute_result"
    }
   ],
   "source": [
    "import numpy as np\n",
    "import matplotlib.pyplot as plt\n",
    "%matplotlib inline\n",
    "import random\n",
    "import gc\n",
    "gc.collect()"
   ]
  },
  {
   "cell_type": "code",
   "execution_count": 116,
   "metadata": {},
   "outputs": [],
   "source": [
    "def loadData(mu0, sigma0, mu1, sigma1, alpha0, alpha1):\n",
    "    '''\n",
    "    初始化数据集\n",
    "    这里通过服从高斯分布的随机函数来伪造数据集\n",
    "    :param mu0: 高斯0的均值\n",
    "    :param sigma0: 高斯0的方差\n",
    "    :param mu1: 高斯1的均值\n",
    "    :param sigma1: 高斯1的方差\n",
    "    :param alpha0: 高斯0的系数\n",
    "    :param alpha1: 高斯1的系数\n",
    "    :return: 混合了两个高斯分布的数据\n",
    "    '''\n",
    "    #定义数据集长度为1000\n",
    "    length = 1000\n",
    "\n",
    "    #初始化第一个高斯分布，生成数据，数据长度为length * alpha系数，以此来\n",
    "    #满足alpha的作用\n",
    "    data0 = np.random.normal(mu0, sigma0, int(length * alpha0))\n",
    "    #第二个高斯分布的数据\n",
    "    data1 = np.random.normal(mu1, sigma1, int(length * alpha1))\n",
    "\n",
    "    #初始化总数据集\n",
    "    #两个高斯分布的数据混合后会放在该数据集中返回\n",
    "    dataSet = []\n",
    "    #将第一个数据集的内容添加进去\n",
    "    dataSet.extend(data0)\n",
    "    #添加第二个数据集的数据\n",
    "    dataSet.extend(data1)\n",
    "    #对总的数据集进行打乱（其实不打乱也没事，只不过打乱一下直观上让人感觉已经混合了\n",
    "    # 读者可以将下面这句话屏蔽以后看看效果是否有差别）\n",
    "    random.shuffle(dataSet)\n",
    "\n",
    "    #返回伪造好的数据集\n",
    "    return dataSet\n",
    "\n",
    "alpha0 = 0.3; mu0 = -2; sigmod0 = 0.5\n",
    "alpha1 = 0.7; mu1 = 0.5; sigmod1 = 1\n",
    "\n",
    "    #初始化数据集\n",
    "dataSetList = loadData(mu0, sigmod0, mu1, sigmod1, alpha0, alpha1)\n",
    "\n",
    "Y = np.array(dataSetList)"
   ]
  },
  {
   "cell_type": "code",
   "execution_count": 117,
   "metadata": {},
   "outputs": [],
   "source": [
    "class GMM:\n",
    "    def __init__(self, k, maxIter):\n",
    "        self.k = k  #k个分模型\n",
    "        self.maxIter = maxIter\n",
    "        self.Y = None\n",
    "        self.num_samples = None\n",
    "        \n",
    "    def fit(self, Y):\n",
    "        \n",
    "        self.Y = Y\n",
    "        \n",
    "        self.num_samples = len(Y)\n",
    "        \n",
    "        #初始化参数 随机更好，若指定为相同数 更新时反而不好。初始值很敏感\n",
    "        mu = np.random.random(self.k)\n",
    "        sigma = np.random.random(self.k)\n",
    "        alpha = np.zeros(self.k)\n",
    "        alpha[:] = 1 / self.k   #alpha 之和要为1\n",
    "        \n",
    "        for _ in range(self.maxIter):\n",
    "            mu_, sigma_, alpha_ = mu.copy(), sigma.copy(), alpha.copy()\n",
    "            eta_jk = self.E_step(mu, sigma, alpha) #E-step\n",
    "            mu, sigma, alpha = self.M_step(mu, sigma, alpha, eta_jk) #M-step\n",
    "            \n",
    "            if self.finish(mu_, sigma_, mu, sigma): #迭代结束条件\n",
    "                break\n",
    "        \n",
    "        return mu, sigma, alpha\n",
    "            \n",
    "        \n",
    "    def Gaussian(self, y, mu, sigma):\n",
    "        return 1 / (np.sqrt(2*np.pi)*sigma) * np.exp(-np.square(y-mu) / (2*np.square(sigma)))\n",
    "    \n",
    "    def E_step(self, mu, sigma, alpha):\n",
    "        eta_jk = np.zeros((self.num_samples, self.k))\n",
    "        for j in range(self.num_samples):\n",
    "            denominator = 0\n",
    "            for k in range(self.k):\n",
    "                numerator = alpha[k] * self.Gaussian(self.Y[j], mu[k], sigma[k])\n",
    "                denominator += numerator\n",
    "                eta_jk[j, k] = numerator\n",
    "            \n",
    "            eta_jk[j, :] = eta_jk[j, :] / denominator\n",
    "            \n",
    "        return eta_jk\n",
    "    \n",
    "    def M_step(self, mu, sigma, alpha, eta_jk):\n",
    "        for k in range(self.k):\n",
    "            sigma[k] = np.sqrt(eta_jk[:, k].dot(np.square((self.Y-mu[k])).T) / np.sum(eta_jk[:, k]))\n",
    "            mu[k] = eta_jk[:, k].dot(self.Y.T) / np.sum(eta_jk[:, k])\n",
    "            alpha[k] = np.sum(eta_jk[:, k]) / self.num_samples\n",
    "        return mu, sigma, alpha\n",
    "    \n",
    "    def finish(self, mu_, sigma_, mu, sigma):\n",
    "        if np.abs(np.sum(mu_+sigma_) - np.sum(mu+sigma))<=1e-4:\n",
    "            return True\n",
    "        else:\n",
    "            return False\n",
    "        \n",
    "        "
   ]
  },
  {
   "cell_type": "code",
   "execution_count": 119,
   "metadata": {},
   "outputs": [
    {
     "name": "stdout",
     "output_type": "stream",
     "text": [
      "[-2.03905042  0.48481547]\n",
      "[0.45466645 1.03827373]\n",
      "[0.29042801 0.70957199]\n"
     ]
    }
   ],
   "source": [
    "gmm = GMM(k=2, maxIter=100)\n",
    "mu, sigma, alpha = gmm.fit(Y)\n",
    "print(mu)\n",
    "print(sigma)\n",
    "print(alpha)"
   ]
  },
  {
   "cell_type": "code",
   "execution_count": null,
   "metadata": {},
   "outputs": [],
   "source": []
  }
 ],
 "metadata": {
  "kernelspec": {
   "display_name": "Python 3",
   "language": "python",
   "name": "python3"
  },
  "language_info": {
   "codemirror_mode": {
    "name": "ipython",
    "version": 3
   },
   "file_extension": ".py",
   "mimetype": "text/x-python",
   "name": "python",
   "nbconvert_exporter": "python",
   "pygments_lexer": "ipython3",
   "version": "3.6.0"
  }
 },
 "nbformat": 4,
 "nbformat_minor": 2
}
